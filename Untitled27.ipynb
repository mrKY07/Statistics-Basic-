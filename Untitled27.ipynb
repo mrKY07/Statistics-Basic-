{
  "nbformat": 4,
  "nbformat_minor": 0,
  "metadata": {
    "colab": {
      "provenance": []
    },
    "kernelspec": {
      "name": "python3",
      "display_name": "Python 3"
    },
    "language_info": {
      "name": "python"
    }
  },
  "cells": [
    {
      "cell_type": "markdown",
      "source": [
        "# THEORETICAL QUESTIONS"
      ],
      "metadata": {
        "id": "c0Cdt459cVki"
      }
    },
    {
      "cell_type": "markdown",
      "source": [
        "1.What is statistics, and why is it important?\n",
        "\n",
        "\n",
        "Statistics is the science of collecting, analyzing, interpreting, and presenting data. It helps in understanding complex data patterns and making informed decisions based on data evidence, making it essential in research, business, and daily life.\n",
        "\n",
        "\n"
      ],
      "metadata": {
        "id": "JLPym1AfcoB6"
      }
    },
    {
      "cell_type": "markdown",
      "source": [
        "2.What are the two main types of statistics?\n",
        "\n",
        "\n",
        "The two main types of statistics are descriptive statistics and inferential statistics. Descriptive statistics summarize and organize data, while inferential statistics draw conclusions and make predictions about a population based on a sample.\n",
        "\n",
        "\n"
      ],
      "metadata": {
        "id": "rldK-CC7dU5z"
      }
    },
    {
      "cell_type": "markdown",
      "source": [
        "3.What are descriptive statistics?\n",
        "\n",
        "Descriptive statistics involve methods for organizing, displaying, and describing data using tables, graphs, and numerical measures like mean, median, and mode. It provides a clear and simple summary of the data set.\n",
        "\n"
      ],
      "metadata": {
        "id": "FBVKBLSddWU6"
      }
    },
    {
      "cell_type": "markdown",
      "source": [
        "4.What is inferential statistics?\n",
        "\n",
        "\n",
        "Inferential statistics involve techniques to make generalizations, estimates, or predictions about a larger population based on a sample. It uses probability theory to assess the reliability and accuracy of conclusions.\n",
        "\n",
        "\n"
      ],
      "metadata": {
        "id": "Fyma0aXadXxy"
      }
    },
    {
      "cell_type": "markdown",
      "source": [
        "5.What is sampling in statistics?\n",
        "\n",
        "Sampling in statistics is the process of selecting a subset of individuals or observations from a larger population to estimate characteristics of the whole group. It is important because studying an entire population is often impractical or impossible."
      ],
      "metadata": {
        "id": "qzHCfZ5QdZBy"
      }
    },
    {
      "cell_type": "markdown",
      "source": [
        "6.What are the different types of sampling methods?\n",
        "\n",
        "Sampling methods are mainly classified into probability (random) sampling and non-probability (non-random) sampling. Probability sampling methods include simple random sampling, stratified sampling, cluster sampling, and systematic sampling. Non-probability sampling methods include convenience sampling, judgmental sampling, quota sampling, and snowball sampling.\n",
        "\n"
      ],
      "metadata": {
        "id": "tTQ9RYbOdkbi"
      }
    },
    {
      "cell_type": "markdown",
      "source": [
        "7.What is the difference between random and non-random sampling?\n",
        "\n",
        "Random sampling gives every member of the population an equal chance of being selected, ensuring unbiased results. Non-random sampling selects samples based on the researcher's judgment or convenience, which may introduce bias. For example, choosing students randomly from a list is random sampling, while selecting only nearby students is non-random.\n",
        "\n"
      ],
      "metadata": {
        "id": "1sWh9p48dnIK"
      }
    },
    {
      "cell_type": "markdown",
      "source": [
        "8.Define and give examples of qualitative and quantitative data.\n",
        "\n",
        "Qualitative data describes non-numeric information like color, gender, or brand names. Quantitative data deals with numeric values like age, height, or marks. For example, \"red car\" is qualitative, while \"speed of 60 km/h\" is quantitative.\n",
        "\n"
      ],
      "metadata": {
        "id": "etYpyloado6T"
      }
    },
    {
      "cell_type": "markdown",
      "source": [
        "9.What are the different types of data in statistics?\n",
        "\n",
        "Data in statistics are mainly of two types: qualitative (categorical) and quantitative (numerical). Quantitative data can further be divided into discrete data (countable like number of students) and continuous data (measurable like weight or height).\n",
        "\n"
      ],
      "metadata": {
        "id": "tJlMTBbJdqjy"
      }
    },
    {
      "cell_type": "markdown",
      "source": [
        "10.Explain nominal, ordinal, interval, and ratio levels of measurement.\n",
        "\n",
        "Nominal level classifies data into categories without any order (e.g., gender). Ordinal level arranges data in order but without consistent differences (e.g., rankings). Interval level has ordered data with meaningful differences but no true zero (e.g., temperature in Celsius). Ratio level has all features of interval plus a true zero (e.g., weight, height).\n",
        "\n"
      ],
      "metadata": {
        "id": "rjEAmI5BdsYT"
      }
    },
    {
      "cell_type": "markdown",
      "source": [
        "11.What is the measure of central tendency?\n",
        "\n",
        "A measure of central tendency identifies the center or typical value of a dataset. The three main measures are mean (average), median (middle value), and mode (most frequent value).\n",
        "For example, in the data set {2, 3, 3, 5, 7}, the mean is 4, median is 3, and mode is 3.\n"
      ],
      "metadata": {
        "id": "igCJGq7gdtbD"
      }
    },
    {
      "cell_type": "markdown",
      "source": [
        "\n",
        "12.Define mean, median, and mode.\n",
        "\n",
        "Mean is the average of all data values, found by adding them and dividing by the number of values. Median is the middle value when data is arranged in order, and mode is the value that occurs most frequently.\n",
        "For example, in {2, 3, 4, 4, 5}, mean is 3.6, median is 4, and mode is 4.\n",
        "\n"
      ],
      "metadata": {
        "id": "p_csJ1R7d80i"
      }
    },
    {
      "cell_type": "markdown",
      "source": [
        "13.What is the significance of the measure of central tendency?\n",
        "\n",
        "The measure of central tendency provides a single value that represents the entire dataset, making it easier to understand and compare data. It helps identify the general trend of data, detect outliers, and summarize large sets of numbers into meaningful information.\n",
        "\n"
      ],
      "metadata": {
        "id": "lZUkgB4Od-Nz"
      }
    },
    {
      "cell_type": "markdown",
      "source": [
        "14.What is variance, and how is it calculated?\n",
        "\n",
        "Variance measures the average squared difference of each data point from the mean, showing the data’s spread. It is calculated by taking the sum of squared deviations from the mean and dividing it by the number of observations (or n-1 for sample variance).\n",
        "\n"
      ],
      "metadata": {
        "id": "8zjCVqehd_xS"
      }
    },
    {
      "cell_type": "markdown",
      "source": [
        "15.What is standard deviation, and why is it important?\n",
        "\n",
        "Standard deviation is the square root of variance and indicates how much data values deviate from the mean. It is important because it shows the consistency or variability in data; a low standard deviation means data points are close to the mean, and a high value means they are spread out.\n",
        "\n"
      ],
      "metadata": {
        "id": "htfU8GuheA8C"
      }
    },
    {
      "cell_type": "markdown",
      "source": [
        "16.Define and explain the term range in statistics.\n",
        "\n",
        "Range is the difference between the maximum and minimum values in a dataset, showing how spread out the data is. It is a simple measure of variability; for example, if the highest score is 90 and the lowest is 50, the range is 40.\n"
      ],
      "metadata": {
        "id": "5hewIuCOeB6y"
      }
    },
    {
      "cell_type": "markdown",
      "source": [
        "17.What is the difference between variance and standard deviation?\n",
        "\n",
        "Variance measures the average squared deviation from the mean, while standard deviation is the square root of variance. Variance is in squared units, making it harder to interpret, but standard deviation brings it back to the original units of the data, making it more practical for understanding spread.\n",
        "\n"
      ],
      "metadata": {
        "id": "1DklCv9_eXAa"
      }
    },
    {
      "cell_type": "markdown",
      "source": [
        "18.What is skewness in a dataset?\n",
        "\n",
        "Skewness measures the asymmetry of a dataset around its mean. A perfectly symmetrical distribution has zero skewness, while skewness indicates if the data leans more to the left or right, affecting the shape of the distribution.\n",
        "\n"
      ],
      "metadata": {
        "id": "TysjFsJ1eday"
      }
    },
    {
      "cell_type": "markdown",
      "source": [
        "19.What does it mean if a dataset is positively or negatively skewed?\n",
        "\n",
        "If a dataset is positively skewed, it has a long tail on the right, meaning most data values are concentrated on the left. If it is negatively skewed, it has a long tail on the left, meaning most data values are concentrated on the right.\n"
      ],
      "metadata": {
        "id": "jrNXKgcEejLJ"
      }
    },
    {
      "cell_type": "markdown",
      "source": [
        "\n",
        "20.Define and explain kurtosis.\n",
        "\n",
        "Kurtosis measures the \"tailedness\" of a distribution, showing whether data has heavy or light tails compared to a normal distribution. High kurtosis means more extreme outliers, while low kurtosis indicates fewer or less extreme outliers.\n",
        "\n"
      ],
      "metadata": {
        "id": "1D-TvuYDekqa"
      }
    },
    {
      "cell_type": "markdown",
      "source": [
        "21.What is the purpose of covariance?\n",
        "\n",
        "Covariance measures how two variables change together; if they increase together, covariance is positive, and if one increases while the other decreases, covariance is negative. It helps in understanding the relationship between two variables but does not show the strength clearly."
      ],
      "metadata": {
        "id": "y-_mpxf3emWa"
      }
    },
    {
      "cell_type": "markdown",
      "source": [
        "22.What does correlation measure in statistics?\n",
        "\n",
        "Correlation measures the strength and direction of a linear relationship between two variables. It is represented by a correlation coefficient ranging from -1 to +1, where +1 means perfect positive relation, -1 means perfect negative relation, and 0 means no relation.\n",
        "\n"
      ],
      "metadata": {
        "id": "utP67HUZetn6"
      }
    },
    {
      "cell_type": "markdown",
      "source": [
        "23.What is the difference between covariance and correlation?\n",
        "\n",
        "Covariance shows the direction of the relationship between two variables but not its strength, while correlation standardizes this measure, giving a clear strength and direction between -1 and +1. Unlike covariance, correlation is dimensionless and easier to interpret.\n",
        "\n"
      ],
      "metadata": {
        "id": "ka-RSfObexcp"
      }
    },
    {
      "cell_type": "markdown",
      "source": [
        "24.What are some real-world applications of statistics?\n",
        "\n",
        "Statistics are widely used in fields like healthcare for clinical trials, business for market research, government for policy making, sports for player performance analysis, and weather forecasting. For example, companies use customer survey statistics to improve products and services."
      ],
      "metadata": {
        "id": "PyKUxkgaeynK"
      }
    },
    {
      "cell_type": "markdown",
      "source": [
        "**PRACTICAL QUESTION**\n",
        "\n"
      ],
      "metadata": {
        "id": "Tmqf6a6-ezx8"
      }
    },
    {
      "cell_type": "code",
      "source": [
        "import statistics\n",
        "\n",
        "data = [3, 5, 7, 7, 9]\n",
        "\n",
        "mean = statistics.mean(data)\n",
        "median = statistics.median(data)\n",
        "mode = statistics.mode(data)\n",
        "\n",
        "print(\"Mean:\", mean)\n",
        "print(\"Median:\", median)\n",
        "print(\"Mode:\", mode)\n"
      ],
      "metadata": {
        "colab": {
          "base_uri": "https://localhost:8080/"
        },
        "id": "btPlW_wYfDB9",
        "outputId": "508ba981-7510-4270-ab0d-c910e467df64"
      },
      "execution_count": 1,
      "outputs": [
        {
          "output_type": "stream",
          "name": "stdout",
          "text": [
            "Mean: 6.2\n",
            "Median: 7\n",
            "Mode: 7\n"
          ]
        }
      ]
    },
    {
      "cell_type": "code",
      "source": [
        "import statistics\n",
        "\n",
        "data = [3, 5, 7, 7, 9]\n",
        "\n",
        "variance = statistics.variance(data)\n",
        "std_deviation = statistics.stdev(data)\n",
        "\n",
        "print(\"Variance:\", variance)\n",
        "print(\"Standard Deviation:\", std_deviation)\n"
      ],
      "metadata": {
        "colab": {
          "base_uri": "https://localhost:8080/"
        },
        "id": "vS9ENU8fgS1U",
        "outputId": "1ddf6f61-339e-4c7d-c61a-e5d36e18bac9"
      },
      "execution_count": 2,
      "outputs": [
        {
          "output_type": "stream",
          "name": "stdout",
          "text": [
            "Variance: 5.2\n",
            "Standard Deviation: 2.280350850198276\n"
          ]
        }
      ]
    },
    {
      "cell_type": "code",
      "source": [
        "nominal_data = ['Red', 'Blue', 'Green', 'Yellow']\n",
        "\n",
        "ordinal_data = ['Low', 'Medium', 'High']\n",
        "\n",
        "interval_data = [32, 45, 50, 60]\n",
        "\n",
        "ratio_data = [10, 20, 30, 40]\n",
        "\n",
        "print(\"Nominal Data:\", nominal_data)\n",
        "print(\"Ordinal Data:\", ordinal_data)\n",
        "print(\"Interval Data:\", interval_data)\n",
        "print(\"Ratio Data:\", ratio_data)\n"
      ],
      "metadata": {
        "colab": {
          "base_uri": "https://localhost:8080/"
        },
        "id": "V3hWURyNgaVT",
        "outputId": "969d05a8-b421-4ec7-dc10-3e475b648b20"
      },
      "execution_count": 3,
      "outputs": [
        {
          "output_type": "stream",
          "name": "stdout",
          "text": [
            "Nominal Data: ['Red', 'Blue', 'Green', 'Yellow']\n",
            "Ordinal Data: ['Low', 'Medium', 'High']\n",
            "Interval Data: [32, 45, 50, 60]\n",
            "Ratio Data: [10, 20, 30, 40]\n"
          ]
        }
      ]
    },
    {
      "cell_type": "code",
      "source": [
        "import random\n",
        "import pandas as pd\n",
        "\n",
        "data = {'Age': [25, 30, 35, 40, 45, 50, 55, 60, 65, 70],\n",
        "        'Gender': ['Male', 'Female', 'Female', 'Male', 'Female', 'Male', 'Female', 'Male', 'Female', 'Male']}\n",
        "\n",
        "df = pd.DataFrame(data)\n",
        "\n",
        "random_sample = df.sample(n=4)\n",
        "\n",
        "stratified_sample = df.groupby('Gender').apply(lambda x: x.sample(n=2))\n",
        "\n",
        "print(\"Random Sample:\\n\", random_sample)\n",
        "print(\"\\nStratified Sample:\\n\", stratified_sample)\n"
      ],
      "metadata": {
        "colab": {
          "base_uri": "https://localhost:8080/"
        },
        "id": "-SaE9-Mpgss7",
        "outputId": "b9d8b8eb-2372-4fe9-d800-b77d954baaae"
      },
      "execution_count": 4,
      "outputs": [
        {
          "output_type": "stream",
          "name": "stdout",
          "text": [
            "Random Sample:\n",
            "    Age  Gender\n",
            "2   35  Female\n",
            "3   40    Male\n",
            "6   55  Female\n",
            "0   25    Male\n",
            "\n",
            "Stratified Sample:\n",
            "           Age  Gender\n",
            "Gender               \n",
            "Female 8   65  Female\n",
            "       4   45  Female\n",
            "Male   3   40    Male\n",
            "       5   50    Male\n"
          ]
        },
        {
          "output_type": "stream",
          "name": "stderr",
          "text": [
            "<ipython-input-4-62c3a76eeb6a>:11: DeprecationWarning: DataFrameGroupBy.apply operated on the grouping columns. This behavior is deprecated, and in a future version of pandas the grouping columns will be excluded from the operation. Either pass `include_groups=False` to exclude the groupings or explicitly select the grouping columns after groupby to silence this warning.\n",
            "  stratified_sample = df.groupby('Gender').apply(lambda x: x.sample(n=2))\n"
          ]
        }
      ]
    },
    {
      "cell_type": "code",
      "source": [
        "def calculate_range(data):\n",
        "    return max(data) - min(data)\n",
        "\n",
        "data = [3, 5, 7, 2, 9]\n",
        "\n",
        "range_value = calculate_range(data)\n",
        "print(\"Range of the dataset:\", range_value)\n"
      ],
      "metadata": {
        "colab": {
          "base_uri": "https://localhost:8080/"
        },
        "id": "JqXjz-cdg64e",
        "outputId": "0726e0a9-228b-462d-9f38-35af4316e40d"
      },
      "execution_count": 6,
      "outputs": [
        {
          "output_type": "stream",
          "name": "stdout",
          "text": [
            "Range of the dataset: 7\n"
          ]
        }
      ]
    },
    {
      "cell_type": "code",
      "source": [
        "import matplotlib.pyplot as plt\n",
        "import numpy as np\n",
        "\n",
        "data = [1, 2, 2, 3, 3, 3, 4, 4, 5, 6, 7, 8, 9, 9, 10]\n",
        "\n",
        "plt.hist(data, bins=10, edgecolor='black')\n",
        "\n",
        "plt.title('Histogram of the Dataset')\n",
        "plt.xlabel('Value')\n",
        "plt.ylabel('Frequency')\n",
        "\n",
        "plt.show()\n"
      ],
      "metadata": {
        "colab": {
          "base_uri": "https://localhost:8080/",
          "height": 472
        },
        "id": "2OPH5zwBgyLh",
        "outputId": "d98317fc-38b4-408b-a5f6-2c4d7e0ebfcb"
      },
      "execution_count": 7,
      "outputs": [
        {
          "output_type": "display_data",
          "data": {
            "text/plain": [
              "<Figure size 640x480 with 1 Axes>"
            ],
            "image/png": "[encoded data removed]"
          },
          "metadata": {}
        }
      ]
    },
    {
      "cell_type": "code",
      "source": [
        "import scipy.stats as stats\n",
        "\n",
        "data = [1, 2, 2, 3, 3, 3, 4, 4, 5, 6, 7, 8, 9, 9, 10]\n",
        "\n",
        "skewness = stats.skew(data)\n",
        "kurtosis = stats.kurtosis(data)\n",
        "\n",
        "print(\"Skewness of the dataset:\", skewness)\n",
        "print(\"Kurtosis of the dataset:\", kurtosis)\n"
      ],
      "metadata": {
        "colab": {
          "base_uri": "https://localhost:8080/"
        },
        "id": "bicwE0OOhKdH",
        "outputId": "ef65443a-0bac-43f7-9663-74b78fe8fad4"
      },
      "execution_count": 10,
      "outputs": [
        {
          "output_type": "stream",
          "name": "stdout",
          "text": [
            "Skewness of the dataset: 0.36193010862546665\n",
            "Kurtosis of the dataset: -1.231718413802811\n"
          ]
        }
      ]
    },
    {
      "cell_type": "code",
      "source": [
        "import matplotlib.pyplot as plt\n",
        "import numpy as np\n",
        "\n",
        "positive_skew_data = np.random.exponential(scale=2, size=1000)\n",
        "\n",
        "negative_skew_data = np.random.exponential(scale=2, size=1000) - 4  # Shift to make it negative skewed\n",
        "\n",
        "plt.figure(figsize=(12, 6))\n",
        "\n",
        "plt.subplot(1, 2, 1)\n",
        "plt.hist(positive_skew_data, bins=30, edgecolor='black')\n",
        "plt.title('Positive Skewness')\n",
        "plt.xlabel('Value')\n",
        "plt.ylabel('Frequency')\n",
        "\n",
        "plt.subplot(1, 2, 2)\n",
        "plt.hist(negative_skew_data, bins=30, edgecolor='black')\n",
        "plt.title('Negative Skewness')\n",
        "plt.xlabel('Value')\n",
        "plt.ylabel('Frequency')\n",
        "\n",
        "plt.tight_layout()\n",
        "plt.show()\n"
      ],
      "metadata": {
        "colab": {
          "base_uri": "https://localhost:8080/",
          "height": 607
        },
        "id": "7itNb1tthcu0",
        "outputId": "5f19dde3-5e6f-4d7d-b696-7b95a9ebfb93"
      },
      "execution_count": 11,
      "outputs": [
        {
          "output_type": "display_data",
          "data": {
            "text/plain": [
              "<Figure size 1200x600 with 2 Axes>"
            ],
            "image/png": "[encoded data removed]"
          },
          "metadata": {}
        }
      ]
    },
    {
      "cell_type": "code",
      "source": [
        "import numpy as np\n",
        "\n",
        "data1 = [3, 5, 7, 9, 11]\n",
        "data2 = [2, 4, 6, 8, 10]\n",
        "\n",
        "covariance = np.cov(data1, data2)[0][1]\n",
        "\n",
        "print(\"Covariance between the two datasets:\", covariance)\n"
      ],
      "metadata": {
        "colab": {
          "base_uri": "https://localhost:8080/"
        },
        "id": "85moBhpDhcqy",
        "outputId": "264aa353-d6a8-4b53-f376-24623ff4d9d2"
      },
      "execution_count": 12,
      "outputs": [
        {
          "output_type": "stream",
          "name": "stdout",
          "text": [
            "Covariance between the two datasets: 10.0\n"
          ]
        }
      ]
    },
    {
      "cell_type": "code",
      "source": [
        "import numpy as np\n",
        "\n",
        "\n",
        "data1 = [3, 5, 7, 9, 11]\n",
        "data2 = [2, 4, 6, 8, 10]\n",
        "\n",
        "correlation_coefficient = np.corrcoef(data1, data2)[0][1]\n",
        "\n",
        "print(\"Correlation Coefficient between the two datasets:\", correlation_coefficient)\n"
      ],
      "metadata": {
        "colab": {
          "base_uri": "https://localhost:8080/"
        },
        "id": "0h9fEhC5hcnL",
        "outputId": "70e28ceb-9c65-487c-9cdb-91e05a128ef7"
      },
      "execution_count": 13,
      "outputs": [
        {
          "output_type": "stream",
          "name": "stdout",
          "text": [
            "Correlation Coefficient between the two datasets: 0.9999999999999999\n"
          ]
        }
      ]
    },
    {
      "cell_type": "code",
      "source": [
        "import matplotlib.pyplot as plt\n",
        "\n",
        "x = [3, 5, 7, 9, 11]\n",
        "y = [2, 4, 6, 8, 10]\n",
        "\n",
        "plt.scatter(x, y, color='blue', marker='o')\n",
        "\n",
        "plt.title('Scatter Plot: Relationship between x and y')\n",
        "plt.xlabel('Variable x')\n",
        "plt.ylabel('Variable y')\n",
        "\n",
        "plt.show()\n"
      ],
      "metadata": {
        "colab": {
          "base_uri": "https://localhost:8080/",
          "height": 472
        },
        "id": "1c1_p5pwhcXs",
        "outputId": "bfba3647-fc66-48fd-d429-7c115221720a"
      },
      "execution_count": 14,
      "outputs": [
        {
          "output_type": "display_data",
          "data": {
            "text/plain": [
              "<Figure size 640x480 with 1 Axes>"
            ],
            "image/png": "[encoded data removed]"
          },
          "metadata": {}
        }
      ]
    },
    {
      "cell_type": "code",
      "source": [
        "import pandas as pd\n",
        "import numpy as np\n",
        "\n",
        "data = {'Age': [25, 30, 35, 40, 45, 50, 55, 60, 65, 70]}\n",
        "df = pd.DataFrame(data)\n",
        "\n",
        "random_sample = df.sample(n=4)\n",
        "\n",
        "step = 2\n",
        "systematic_sample = df.iloc[::step]\n",
        "\n",
        "print(\"Simple Random Sample:\\n\", random_sample)\n",
        "print(\"\\nSystematic Sample:\\n\", systematic_sample)\n"
      ],
      "metadata": {
        "colab": {
          "base_uri": "https://localhost:8080/"
        },
        "id": "v4Emqb0ZjnbF",
        "outputId": "c74b9040-2a8c-40a8-fc20-51dd419dc4cc"
      },
      "execution_count": 15,
      "outputs": [
        {
          "output_type": "stream",
          "name": "stdout",
          "text": [
            "Simple Random Sample:\n",
            "    Age\n",
            "3   40\n",
            "9   70\n",
            "6   55\n",
            "1   30\n",
            "\n",
            "Systematic Sample:\n",
            "    Age\n",
            "0   25\n",
            "2   35\n",
            "4   45\n",
            "6   55\n",
            "8   65\n"
          ]
        }
      ]
    },
    {
      "cell_type": "code",
      "source": [
        "import numpy as np\n",
        "import pandas as pd\n",
        "from scipy import stats\n",
        "\n",
        "data = {'Class Interval': ['0-10', '10-20', '20-30', '30-40', '40-50'],\n",
        "        'Frequency': [5, 12, 18, 10, 7]}\n",
        "\n",
        "df = pd.DataFrame(data)\n",
        "\n",
        "df['Midpoint'] = [(int(x.split('-')[0]) + int(x.split('-')[1])) / 2 for x in df['Class Interval']]\n",
        "\n",
        "mean = np.sum(df['Frequency'] * df['Midpoint']) / np.sum(df['Frequency'])\n",
        "\n",
        "df['Cumulative Frequency'] = np.cumsum(df['Frequency'])\n",
        "total_frequency = np.sum(df['Frequency'])\n",
        "median_class = df[df['Cumulative Frequency'] >= total_frequency / 2].iloc[0]\n",
        "\n",
        "L = int(median_class['Class Interval'].split('-')[0])\n",
        "F = 0 if median_class.name == 0 else df.iloc[median_class.name - 1]['Cumulative Frequency']\n",
        "h = 10\n",
        "f = median_class['Frequency']\n",
        "median = L + ((total_frequency / 2 - F) * h) / f\n",
        "\n",
        "mode = mean + (df['Midpoint'][df['Frequency'].idxmax()] - mean)\n",
        "\n",
        "print(\"Mean:\", mean)\n",
        "print(\"Median:\", median)\n",
        "print(\"Mode:\", mode)\n"
      ],
      "metadata": {
        "colab": {
          "base_uri": "https://localhost:8080/"
        },
        "id": "hI1WNLcDjndU",
        "outputId": "e2fd85d4-6165-4e21-89ff-24c48c862c60"
      },
      "execution_count": 16,
      "outputs": [
        {
          "output_type": "stream",
          "name": "stdout",
          "text": [
            "Mean: 25.384615384615383\n",
            "Median: 25.0\n",
            "Mode: 25.0\n"
          ]
        }
      ]
    },
    {
      "cell_type": "code",
      "source": [
        "import numpy as np\n",
        "import pandas as pd\n",
        "from scipy import stats\n",
        "\n",
        "np.random.seed(0)\n",
        "data = np.random.normal(loc=50, scale=10, size=1000)\n",
        "\n",
        "mean = np.mean(data)\n",
        "median = np.median(data)\n",
        "mode = stats.mode(data).mode[0] if isinstance(stats.mode(data).mode, np.ndarray) else stats.mode(data).mode # If mode is an ndarray, access the first element; otherwise, use the mode value directly.\n",
        "variance = np.var(data)\n",
        "std_deviation = np.std(data)\n",
        "\n",
        "print(\"Mean:\", mean)\n",
        "print(\"Median:\", median)\n",
        "print(\"Mode:\", mode)\n",
        "print(\"Variance:\", variance)\n",
        "print(\"Standard Deviation:\", std_deviation)\n"
      ],
      "metadata": {
        "colab": {
          "base_uri": "https://localhost:8080/"
        },
        "id": "ioER_9O3jnfz",
        "outputId": "c9095b35-230a-45fe-956a-ce224431c0cd"
      },
      "execution_count": 35,
      "outputs": [
        {
          "output_type": "stream",
          "name": "stdout",
          "text": [
            "Mean: 49.54743292509804\n",
            "Median: 49.41971965200372\n",
            "Mode: 19.538569452000733\n",
            "Variance: 97.42344563121543\n",
            "Standard Deviation: 9.870331586690257\n"
          ]
        }
      ]
    },
    {
      "cell_type": "code",
      "source": [
        "import numpy as np\n",
        "import pandas as pd\n",
        "\n",
        "np.random.seed(0)\n",
        "data = np.random.normal(loc=50, scale=10, size=1000)\n",
        "\n",
        "df = pd.DataFrame(data, columns=['Data'])\n",
        "\n",
        "summary = df.describe()\n",
        "\n",
        "print(summary)\n"
      ],
      "metadata": {
        "colab": {
          "base_uri": "https://localhost:8080/"
        },
        "id": "48EU4KOBjnjr",
        "outputId": "af2a081b-f066-4041-9a50-80e464215afb"
      },
      "execution_count": 22,
      "outputs": [
        {
          "output_type": "stream",
          "name": "stdout",
          "text": [
            "              Data\n",
            "count  1000.000000\n",
            "mean     49.547433\n",
            "std       9.875270\n",
            "min      19.538569\n",
            "25%      43.015799\n",
            "50%      49.419720\n",
            "75%      56.069506\n",
            "max      77.593551\n"
          ]
        }
      ]
    },
    {
      "cell_type": "code",
      "source": [
        "import numpy as np\n",
        "import pandas as pd\n",
        "import seaborn as sns\n",
        "import matplotlib.pyplot as plt\n",
        "\n",
        "np.random.seed(0)\n",
        "data = np.random.normal(loc=50, scale=10, size=1000)\n",
        "\n",
        "df = pd.DataFrame(data, columns=['Data'])\n",
        "\n",
        "plt.figure(figsize=(8, 6))\n",
        "sns.boxplot(x=df['Data'])\n",
        "\n",
        "plt.title('Boxplot of Simulated Data')\n",
        "plt.xlabel('Data')\n",
        "\n",
        "plt.show()\n"
      ],
      "metadata": {
        "colab": {
          "base_uri": "https://localhost:8080/",
          "height": 564
        },
        "id": "X-vHRqGljnmk",
        "outputId": "4251e55c-d25d-4c5e-ccfc-f2d695c5eb67"
      },
      "execution_count": 23,
      "outputs": [
        {
          "output_type": "display_data",
          "data": {
            "text/plain": [
              "<Figure size 800x600 with 1 Axes>"
            ],
            "image/png": "[encoded data removed]"
          },
          "metadata": {}
        }
      ]
    },
    {
      "cell_type": "code",
      "source": [
        "import numpy as np\n",
        "\n",
        "data = np.random.normal(loc=50, scale=10, size=100)\n",
        "\n",
        "Q1 = np.percentile(data, 25)\n",
        "Q3 = np.percentile(data, 75)\n",
        "IQR = Q3 - Q1\n",
        "print(\"Interquartile Range (IQR):\", IQR)\n"
      ],
      "metadata": {
        "colab": {
          "base_uri": "https://localhost:8080/"
        },
        "id": "YqCz6_abjno8",
        "outputId": "d4da64ca-564b-4686-902d-2f2f9401cf70"
      },
      "execution_count": 24,
      "outputs": [
        {
          "output_type": "stream",
          "name": "stdout",
          "text": [
            "Interquartile Range (IQR): 13.291077351880567\n"
          ]
        }
      ]
    },
    {
      "cell_type": "code",
      "source": [
        "import numpy as np\n",
        "\n",
        "data = np.random.normal(loc=50, scale=10, size=100)\n",
        "\n",
        "mean = np.mean(data)\n",
        "std_dev = np.std(data)\n",
        "\n",
        "z_scores = (data - mean) / std_dev\n",
        "\n",
        "print(\"First 5 Z-scores:\", z_scores[:5])\n"
      ],
      "metadata": {
        "colab": {
          "base_uri": "https://localhost:8080/"
        },
        "id": "0fuhrMLHjnrD",
        "outputId": "937ec254-9ca9-4fd2-c44c-3576a98289f7"
      },
      "execution_count": 25,
      "outputs": [
        {
          "output_type": "stream",
          "name": "stdout",
          "text": [
            "First 5 Z-scores: [-1.40587204 -0.24443052  1.49695392 -1.07148927 -0.82370546]\n"
          ]
        }
      ]
    },
    {
      "cell_type": "code",
      "source": [
        "import numpy as np\n",
        "\n",
        "data1 = np.random.normal(loc=50, scale=10, size=100)\n",
        "data2 = np.random.normal(loc=50, scale=20, size=100)\n",
        "\n",
        "std_dev1 = np.std(data1)\n",
        "std_dev2 = np.std(data2)\n",
        "\n",
        "print(f\"Standard Deviation of Dataset 1: {std_dev1}\")\n",
        "print(f\"Standard Deviation of Dataset 2: {std_dev2}\")\n",
        "\n",
        "if std_dev1 > std_dev2:\n",
        "    print(\"Dataset 1 has a higher spread (greater variability).\")\n",
        "elif std_dev1 < std_dev2:\n",
        "    print(\"Dataset 2 has a higher spread (greater variability).\")\n",
        "else:\n",
        "    print(\"Both datasets have the same spread (same variability).\")\n"
      ],
      "metadata": {
        "colab": {
          "base_uri": "https://localhost:8080/"
        },
        "id": "-ZNksoU-pidA",
        "outputId": "555bc6a3-ec48-4202-d291-99a60d83d084"
      },
      "execution_count": 26,
      "outputs": [
        {
          "output_type": "stream",
          "name": "stdout",
          "text": [
            "Standard Deviation of Dataset 1: 10.427164782594387\n",
            "Standard Deviation of Dataset 2: 17.682053260141046\n",
            "Dataset 2 has a higher spread (greater variability).\n"
          ]
        }
      ]
    },
    {
      "cell_type": "code",
      "source": [
        "import numpy as np\n",
        "import pandas as pd\n",
        "import seaborn as sns\n",
        "import matplotlib.pyplot as plt\n",
        "\n",
        "data1 = np.random.normal(loc=50, scale=10, size=100)\n",
        "data2 = np.random.normal(loc=50, scale=15, size=100)\n",
        "\n",
        "df = pd.DataFrame({'Data1': data1, 'Data2': data2})\n",
        "\n",
        "cov_matrix = df.cov()\n",
        "\n",
        "plt.figure(figsize=(6, 5))\n",
        "sns.heatmap(cov_matrix, annot=True, cmap='coolwarm', fmt='.2f', linewidths=1)\n",
        "\n",
        "plt.title('Covariance Heatmap')\n",
        "\n",
        "plt.show()\n"
      ],
      "metadata": {
        "colab": {
          "base_uri": "https://localhost:8080/",
          "height": 468
        },
        "id": "R6iHdcsHpia8",
        "outputId": "04b1eb28-4031-494f-cb7e-63e2156360c6"
      },
      "execution_count": 27,
      "outputs": [
        {
          "output_type": "display_data",
          "data": {
            "text/plain": [
              "<Figure size 600x500 with 2 Axes>"
            ],
            "image/png": "[encoded data removed]"
          },
          "metadata": {}
        }
      ]
    },
    {
      "cell_type": "code",
      "source": [
        "import numpy as np\n",
        "import pandas as pd\n",
        "import seaborn as sns\n",
        "import matplotlib.pyplot as plt\n",
        "\n",
        "np.random.seed(0)\n",
        "data = np.random.normal(loc=50, scale=10, size=(100, 3))\n",
        "\n",
        "df = pd.DataFrame(data, columns=['Var1', 'Var2', 'Var3'])\n",
        "\n",
        "corr_matrix = df.corr()\n",
        "\n",
        "plt.figure(figsize=(8, 6))\n",
        "sns.heatmap(corr_matrix, annot=True, cmap='coolwarm', fmt='.2f', linewidths=1)\n",
        "\n",
        "plt.title('Correlation Matrix Heatmap')\n",
        "\n",
        "plt.show()\n"
      ],
      "metadata": {
        "colab": {
          "base_uri": "https://localhost:8080/",
          "height": 545
        },
        "id": "ntIHgngIpiY1",
        "outputId": "cffe168d-13f8-498f-feda-5535e724bfc8"
      },
      "execution_count": 28,
      "outputs": [
        {
          "output_type": "display_data",
          "data": {
            "text/plain": [
              "<Figure size 800x600 with 2 Axes>"
            ],
            "image/png": "[encoded data removed]"
          },
          "metadata": {}
        }
      ]
    },
    {
      "cell_type": "code",
      "source": [
        "import numpy as np\n",
        "\n",
        "np.random.seed(0)\n",
        "data = np.random.normal(loc=50, scale=10, size=100)\n",
        "\n",
        "variance = np.var(data)\n",
        "\n",
        "std_deviation = np.std(data)\n",
        "\n",
        "print(\"Variance of the dataset:\", variance)\n",
        "print(\"Standard Deviation of the dataset:\", std_deviation)\n"
      ],
      "metadata": {
        "colab": {
          "base_uri": "https://localhost:8080/"
        },
        "id": "riObQjqmpiWt",
        "outputId": "b5641377-3781-44a1-bafd-0f32135842f2"
      },
      "execution_count": 29,
      "outputs": [
        {
          "output_type": "stream",
          "name": "stdout",
          "text": [
            "Variance of the dataset: 101.58266192149313\n",
            "Standard Deviation of the dataset: 10.078822447165797\n"
          ]
        }
      ]
    },
    {
      "cell_type": "code",
      "source": [
        "import numpy as np\n",
        "import pandas as pd\n",
        "import seaborn as sns\n",
        "import matplotlib.pyplot as plt\n",
        "from scipy.stats import skew, kurtosis\n",
        "\n",
        "np.random.seed(0)\n",
        "data = np.random.normal(loc=50, scale=10, size=1000)\n",
        "\n",
        "data_skewness = skew(data)\n",
        "data_kurtosis = kurtosis(data)\n",
        "\n",
        "print(f\"Skewness: {data_skewness}\")\n",
        "print(f\"Kurtosis: {data_kurtosis}\")\n",
        "\n",
        "plt.figure(figsize=(6, 4))\n",
        "sns.histplot(data, kde=True, color='blue', bins=30)\n",
        "plt.title('Histogram with KDE (Skewness Visualization)')\n",
        "plt.xlabel('Data Values')\n",
        "plt.ylabel('Frequency')\n",
        "plt.show()\n",
        "\n",
        "plt.figure(figsize=(8, 6))\n",
        "sns.boxplot(x=data, color='green')\n",
        "plt.title('Boxplot (Kurtosis and Outliers Visualization)')\n",
        "plt.xlabel('Data Values')\n",
        "plt.show()\n"
      ],
      "metadata": {
        "colab": {
          "base_uri": "https://localhost:8080/",
          "height": 992
        },
        "id": "GkCSnNq-piUc",
        "outputId": "058f5afd-9062-4e1d-f71c-2cf0802b94ad"
      },
      "execution_count": 32,
      "outputs": [
        {
          "output_type": "stream",
          "name": "stdout",
          "text": [
            "Skewness: 0.03385895323565808\n",
            "Kurtosis: -0.0467663244783294\n"
          ]
        },
        {
          "output_type": "display_data",
          "data": {
            "text/plain": [
              "<Figure size 600x400 with 1 Axes>"
            ],
            "image/png": "[encoded data removed]"
          },
          "metadata": {}
        },
        {
          "output_type": "display_data",
          "data": {
            "text/plain": [
              "<Figure size 800x600 with 1 Axes>"
            ],
            "image/png": "[encoded data removed]"
          },
          "metadata": {}
        }
      ]
    },
    {
      "cell_type": "code",
      "source": [
        "import numpy as np\n",
        "from scipy.stats import pearsonr, spearmanr\n",
        "\n",
        "np.random.seed(0)\n",
        "data1 = np.random.normal(loc=50, scale=10, size=100)\n",
        "data2 = np.random.normal(loc=50, scale=15, size=100)\n",
        "\n",
        "pearson_corr, _ = pearsonr(data1, data2)\n",
        "\n",
        "spearman_corr, _ = spearmanr(data1, data2)\n",
        "\n",
        "print(f\"Pearson Correlation Coefficient: {pearson_corr}\")\n",
        "print(f\"Spearman Correlation Coefficient: {spearman_corr}\")\n"
      ],
      "metadata": {
        "colab": {
          "base_uri": "https://localhost:8080/"
        },
        "id": "XMV3gzwCpiSF",
        "outputId": "6fd30b11-7e28-425e-cd89-9a2ccbd160a8"
      },
      "execution_count": 31,
      "outputs": [
        {
          "output_type": "stream",
          "name": "stdout",
          "text": [
            "Pearson Correlation Coefficient: 0.11172919881894852\n",
            "Spearman Correlation Coefficient: 0.08987698769876985\n"
          ]
        }
      ]
    },
    {
      "cell_type": "code",
      "source": [],
      "metadata": {
        "id": "08PzQ5cOpiIj"
      },
      "execution_count": null,
      "outputs": []
    }
  ]
}